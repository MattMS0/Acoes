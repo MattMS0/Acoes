{
  "nbformat": 4,
  "nbformat_minor": 0,
  "metadata": {
    "colab": {
      "provenance": [],
      "authorship_tag": "ABX9TyNQOiYMGRunGHlI/YJUoJYZ"
    },
    "kernelspec": {
      "name": "python3",
      "display_name": "Python 3"
    },
    "language_info": {
      "name": "python"
    }
  },
  "cells": [
    {
      "cell_type": "markdown",
      "source": [
        "---\n",
        "# **Explorando a API fundamentus**\n",
        "\n",
        "---"
      ],
      "metadata": {
        "id": "WZfj8YpgG8K-"
      }
    },
    {
      "cell_type": "code",
      "source": [
        "!pip install fundamentus\n",
        "!pip install requests-cache"
      ],
      "metadata": {
        "id": "LgPi19aoH2DD"
      },
      "execution_count": null,
      "outputs": []
    },
    {
      "cell_type": "code",
      "source": [
        "import fundamentus\n",
        "import requests_cache\n",
        "import requests\n",
        "import time, logging\n",
        "import pandas as pd\n",
        "import matplotlib.pyplot as plt"
      ],
      "metadata": {
        "id": "RS7y5_KQH66V"
      },
      "execution_count": 4,
      "outputs": []
    },
    {
      "cell_type": "code",
      "source": [
        "df = fundamentus.get_resultado()"
      ],
      "metadata": {
        "id": "IUgbjKc2II67"
      },
      "execution_count": 7,
      "outputs": []
    },
    {
      "cell_type": "code",
      "source": [
        "df.columns"
      ],
      "metadata": {
        "id": "IfOkZQrtIjT0"
      },
      "execution_count": null,
      "outputs": []
    },
    {
      "cell_type": "code",
      "source": [
        "df.dtypes"
      ],
      "metadata": {
        "id": "tnnjDQ7xIpYU"
      },
      "execution_count": null,
      "outputs": []
    },
    {
      "cell_type": "code",
      "source": [
        "df.describe()"
      ],
      "metadata": {
        "id": "7IC2qFUBI2CB"
      },
      "execution_count": null,
      "outputs": []
    },
    {
      "cell_type": "markdown",
      "source": [
        "## **Screening de ativos**"
      ],
      "metadata": {
        "id": "4uKUeDBdJPCw"
      }
    },
    {
      "cell_type": "markdown",
      "source": [
        "Caso queira trazer papéis de acordo com condições específicas"
      ],
      "metadata": {
        "id": "wXkytjEcJVHd"
      }
    },
    {
      "cell_type": "code",
      "source": [
        "df.pl"
      ],
      "metadata": {
        "id": "KT7LO2UOK72Z"
      },
      "execution_count": null,
      "outputs": []
    },
    {
      "cell_type": "code",
      "source": [
        "filtro = df[ (df.pl > 0) & (df.mrgebit > 0.4) & (df.dy > 0.05)]"
      ],
      "metadata": {
        "id": "SMxHzwlFKnLl"
      },
      "execution_count": 33,
      "outputs": []
    },
    {
      "cell_type": "code",
      "source": [
        "filtro1 = df[ (df.pl > 0) & (df.mrgebit > 0.4)]"
      ],
      "metadata": {
        "id": "cHCyjstSPgaG"
      },
      "execution_count": 41,
      "outputs": []
    },
    {
      "cell_type": "code",
      "source": [
        "filtro2 = df[ (df.pl > 0) & (df.mrgebit > 0.4) & (df.dy > 0.1)]"
      ],
      "metadata": {
        "id": "1izLa4Esjqix"
      },
      "execution_count": 54,
      "outputs": []
    },
    {
      "cell_type": "code",
      "source": [
        "filtro.shape"
      ],
      "metadata": {
        "id": "TEt5cHQAMQ1F"
      },
      "execution_count": null,
      "outputs": []
    },
    {
      "cell_type": "code",
      "source": [
        "filtro.sort_values('dy', ascending=False, inplace = True)"
      ],
      "metadata": {
        "id": "rKxA-4XONMYS"
      },
      "execution_count": null,
      "outputs": []
    },
    {
      "cell_type": "code",
      "source": [
        "filtro1.sort_values('dy', ascending=False, inplace = True)"
      ],
      "metadata": {
        "id": "_5LVaYyQPkim"
      },
      "execution_count": null,
      "outputs": []
    },
    {
      "cell_type": "code",
      "source": [
        "filtro.head()"
      ],
      "metadata": {
        "id": "D-Z5Vr4nOGuO"
      },
      "execution_count": null,
      "outputs": []
    },
    {
      "cell_type": "code",
      "source": [
        "plt.figure(figsize = (20,6));\n",
        "#O ';' evita que o matplotlib mostre algum aviso\n",
        "plt.bar(filtro1.index, filtro1.dy);\n",
        "plt.xticks(rotation = 45);\n",
        "plt.title(\"Ações com P/L maior que 0 e margem EBITDA maior que 40% e ordenadas por DY\");"
      ],
      "metadata": {
        "id": "HGouFN8xOHf9"
      },
      "execution_count": null,
      "outputs": []
    },
    {
      "cell_type": "code",
      "source": [
        "filtro2.shape"
      ],
      "metadata": {
        "id": "4kE16sgEkCcX"
      },
      "execution_count": null,
      "outputs": []
    },
    {
      "cell_type": "code",
      "source": [
        "filtro2.sort_values('dy', ascending=False, inplace = True)"
      ],
      "metadata": {
        "id": "EwgrzFjZkkRP"
      },
      "execution_count": null,
      "outputs": []
    },
    {
      "cell_type": "code",
      "source": [
        "plt.figure(figsize = (20,6));\n",
        "#O ';' evita que o matplotlib mostre algum aviso\n",
        "plt.bar(filtro2.index, filtro2.dy);\n",
        "plt.xticks(rotation = 45);\n",
        "plt.title(\"Ações com P/L maior que 0 e margem EBITDA maior que 40% e DY acima de 10%, ordenadas por DY\");"
      ],
      "metadata": {
        "id": "06mgX64Oksj-"
      },
      "execution_count": null,
      "outputs": []
    },
    {
      "cell_type": "markdown",
      "source": [
        "# **Método Resultado Raw**"
      ],
      "metadata": {
        "id": "1OXs_3NTqTcO"
      }
    },
    {
      "cell_type": "code",
      "source": [
        "fundamentus.get_resultado_raw()"
      ],
      "metadata": {
        "id": "eQqQtcP3qakP"
      },
      "execution_count": null,
      "outputs": []
    },
    {
      "cell_type": "markdown",
      "source": [
        "# **Método Get Papel**"
      ],
      "metadata": {
        "id": "PlnbGwZMqdzg"
      }
    },
    {
      "cell_type": "code",
      "source": [
        "fundamentus.get_papel('PRIO3')"
      ],
      "metadata": {
        "id": "WOvoR5-0qjuC"
      },
      "execution_count": null,
      "outputs": []
    },
    {
      "cell_type": "code",
      "source": [
        "fundamentus.get_detalhes_raw('PRIO3')"
      ],
      "metadata": {
        "id": "0yk7kpR-qwUs"
      },
      "execution_count": null,
      "outputs": []
    },
    {
      "cell_type": "code",
      "source": [
        "fundamentus.get_detalhes_papel('PRIO3')"
      ],
      "metadata": {
        "id": "0XjNGreUq4P5"
      },
      "execution_count": null,
      "outputs": []
    },
    {
      "cell_type": "code",
      "source": [
        "varejo = fundamentus.list_papel_setor(8)"
      ],
      "metadata": {
        "id": "t8iWvTscrN41"
      },
      "execution_count": 82,
      "outputs": []
    },
    {
      "cell_type": "code",
      "source": [
        "varejo"
      ],
      "metadata": {
        "id": "XouQizA7rSlj"
      },
      "execution_count": null,
      "outputs": []
    },
    {
      "cell_type": "code",
      "source": [
        "fundamentus.get_papel(varejo)"
      ],
      "metadata": {
        "id": "BZn75Y5rrTNE"
      },
      "execution_count": null,
      "outputs": []
    }
  ]
}